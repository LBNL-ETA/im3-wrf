{
 "cells": [
  {
   "cell_type": "code",
   "execution_count": 3,
   "metadata": {},
   "outputs": [],
   "source": [
    "import os, sys, csv, json, re\n",
    "import parseidf\n",
    "import numpy as np\n",
    "import pandas as pd\n",
    "import matplotlib.pyplot as plt\n",
    "import seaborn as sns\n",
    "%matplotlib inline"
   ]
  },
  {
   "cell_type": "markdown",
   "metadata": {},
   "source": [
    "## Write Baseline IDF"
   ]
  },
  {
   "cell_type": "code",
   "execution_count": 4,
   "metadata": {},
   "outputs": [],
   "source": [
    "WORK_FOLDER_NAME = 'ref_buildings' ## todo: modify the following code for new models\n",
    "BLDG_NAME_LIST = os.listdir(WORK_FOLDER_NAME)\n",
    "\n",
    "for bldg_name in BLDG_NAME_LIST:\n",
    "    input_file_path = os.path.join(WORK_FOLDER_NAME, bldg_name, 'model.idf')\n",
    "    output_file_path= os.path.join(WORK_FOLDER_NAME, bldg_name, 'model-1.idf')\n",
    "    \n",
    "    if not os.path.exists(input_file_path):\n",
    "        continue\n",
    "\n",
    "    with open(input_file_path, 'r') as f:\n",
    "        idf = parseidf.parse(f.read())\n",
    "        ext_surfaces = []\n",
    "        \n",
    "        # Change run period\n",
    "        idf['RunPeriod'.upper()][0][2] = 9\n",
    "        idf['RunPeriod'.upper()][0][3] = 1\n",
    "        idf['RunPeriod'.upper()][0][5] = 9\n",
    "        idf['RunPeriod'.upper()][0][6] = 2\n",
    "        \n",
    "        # Add meter and reportable variables\n",
    "        idf['Output:Meter'.upper()] = list()\n",
    "        idf['Output:Meter'.upper()].append(['Output:Meter', 'Cooling:Electricity', 'hourly'])\n",
    "        idf['Output:Meter'.upper()].append(['Output:Meter', 'Heating:Gas', 'hourly'])\n",
    "        idf['Output:Meter'.upper()].append(['Output:Meter', 'Electricity:Facility', 'hourly'])\n",
    "        idf['Output:Meter'.upper()].append(['Output:Meter', 'Gas:Facility', 'hourly'])\n",
    "        idf['Output:Variable'.upper()] = list()\n",
    "\n",
    "        idf['Output:Variable'.upper()].append(\n",
    "            ['Output:Variable', '*', 'Site Total Zone Exfiltration Heat Loss', 'hourly'])\n",
    "        idf['Output:Variable'.upper()].append(\n",
    "            ['Output:Variable', '*', 'HVAC System Total Heat Rejection Energy', 'hourly'])\n",
    "        idf['Output:Variable'.upper()].append(\n",
    "            ['Output:Variable', '*', 'Air System Relief Air Total Heat Loss Energy', 'hourly'])\n",
    "        idf['Output:Variable'.upper()].append(\n",
    "            ['Output:Variable', '*', 'Site Outdoor Air Drybulb Temperature', 'hourly'])\n",
    "        idf['Output:Variable'.upper()].append(\n",
    "            ['Output:Variable', '*', 'Site Outdoor Air Dewpoint Temperature', 'hourly'])\n",
    "        idf['Output:Variable'.upper()].append(\n",
    "            ['Output:Variable', '*', 'Site Outdoor Air Wetbulb Temperature', 'hourly'])\n",
    "        idf['Output:Variable'.upper()].append(\n",
    "            ['Output:Variable', '*', 'Site Outdoor Air Relative Humidity', 'hourly'])\n",
    "        idf['Output:Variable'.upper()].append(\n",
    "            ['Output:Variable', '*', 'Site Outdoor Air Barometric Pressure', 'hourly'])\n",
    "        idf['Output:Variable'.upper()].append(\n",
    "            ['Output:Variable', '*', 'Site Wind Speed', 'hourly'])\n",
    "        idf['Output:Variable'.upper()].append(\n",
    "            ['Output:Variable', '*', 'Site Wind Direction', 'hourly'])\n",
    "        \n",
    "        # to CSV output directly\n",
    "        idf['OutputControl:Files'.upper()] = list()\n",
    "        idf['OutputControl:Files'.upper()].append(['OutputControl:Files', 'Yes', 'No', 'No', 'No'])\n",
    "\n",
    "\n",
    "    with open(output_file_path, 'w') as out:\n",
    "        for idf_object_key in idf:\n",
    "            idf_objects = idf[idf_object_key]\n",
    "            for idf_object in idf_objects:\n",
    "                for attr_num in range(len(idf_object)):\n",
    "                    if attr_num == 0:\n",
    "                        out.write('  ' + str(idf_object[attr_num]) + ',\\n')\n",
    "                    elif attr_num == len(idf_object) - 1:\n",
    "                        out.write('    ' + str(idf_object[attr_num]) + ';\\n')\n",
    "                    else:\n",
    "                        out.write('    ' + str(idf_object[attr_num]) + ',\\n')\n",
    "                out.write('\\n')"
   ]
  },
  {
   "cell_type": "code",
   "execution_count": null,
   "metadata": {},
   "outputs": [],
   "source": []
  },
  {
   "cell_type": "code",
   "execution_count": null,
   "metadata": {},
   "outputs": [],
   "source": []
  }
 ],
 "metadata": {
  "kernelspec": {
   "display_name": "Python 3",
   "language": "python",
   "name": "python3"
  },
  "language_info": {
   "codemirror_mode": {
    "name": "ipython",
    "version": 3
   },
   "file_extension": ".py",
   "mimetype": "text/x-python",
   "name": "python",
   "nbconvert_exporter": "python",
   "pygments_lexer": "ipython3",
   "version": "3.8.3"
  },
  "toc": {
   "base_numbering": 1,
   "nav_menu": {},
   "number_sections": true,
   "sideBar": true,
   "skip_h1_title": false,
   "title_cell": "Table of Contents",
   "title_sidebar": "Contents",
   "toc_cell": false,
   "toc_position": {},
   "toc_section_display": true,
   "toc_window_display": false
  }
 },
 "nbformat": 4,
 "nbformat_minor": 2
}
