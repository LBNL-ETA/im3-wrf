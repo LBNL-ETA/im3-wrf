{
 "cells": [
  {
   "cell_type": "code",
   "execution_count": 1,
   "metadata": {},
   "outputs": [],
   "source": [
    "import os, sys, csv, json, re\n",
    "import numpy as np\n",
    "import pandas as pd"
   ]
  },
  {
   "cell_type": "code",
   "execution_count": 2,
   "metadata": {},
   "outputs": [],
   "source": [
    "wrf_folder = 'M02_EnergyPlus_Forcing_Historical'\n",
    "result_folder = 'eplus-results-base-csv'\n",
    "sorted_folder = 'eplus-grid-emission-results'"
   ]
  },
  {
   "cell_type": "code",
   "execution_count": 3,
   "metadata": {},
   "outputs": [],
   "source": [
    "with open(os.path.join('bldg-wrf-mapping/bldg-info-map.json'), 'r') as f:\n",
    "    data = json.load(f)"
   ]
  },
  {
   "cell_type": "code",
   "execution_count": 4,
   "metadata": {},
   "outputs": [
    {
     "data": {
      "text/plain": [
       "[31757, 'LSF', 18071.835679009753, 1992, 3, 6023.945226336585]"
      ]
     },
     "execution_count": 4,
     "metadata": {},
     "output_type": "execute_result"
    }
   ],
   "source": [
    "data['420202853242'] # WRF_ID, BLDG_TYPE, TOTAL_FLOOR_AREA, YR_BT, NO_STORIES, FOOTPRINT_AREA"
   ]
  },
  {
   "cell_type": "code",
   "execution_count": 7,
   "metadata": {},
   "outputs": [],
   "source": [
    "wrf_info_map = dict()\n",
    "with open(os.path.join('bldg-wrf-mapping','wrf-grids-2229-w-bldgs.geojson'), 'r') as f:\n",
    "    wrf_data = json.load(f)\n",
    "    for wrf_grid in wrf_data['features']:\n",
    "        if wrf_grid['properties']['has_bldgs'] == 1:\n",
    "            wrf_id = wrf_grid['properties']['id']\n",
    "            wrf_type_area = {}\n",
    "            wrf_type_floor_area = {}\n",
    "            for bldg_id in wrf_grid['properties']['bldg_ids']:\n",
    "                if bldg_id in data:\n",
    "                    if data[bldg_id][1] in wrf_type_area:\n",
    "                        \n",
    "                        wrf_type_area[data[bldg_id][1]] += data[bldg_id][2]\n",
    "                        wrf_type_floor_area[data[bldg_id][1]] += data[bldg_id][5]\n",
    "                    else:\n",
    "                        wrf_type_area[data[bldg_id][1]] = data[bldg_id][2]\n",
    "                        wrf_type_floor_area[data[bldg_id][1]] = data[bldg_id][5]\n",
    "            wrf_info_map[wrf_id] = dict()\n",
    "            wrf_info_map[wrf_id]['area'] = wrf_type_area\n",
    "            wrf_info_map[wrf_id]['floor_area'] = wrf_type_floor_area"
   ]
  },
  {
   "cell_type": "code",
   "execution_count": 8,
   "metadata": {},
   "outputs": [
    {
     "data": {
      "text/plain": [
       "{'area': {'LSF': 607312.6654331736,\n",
       "  'SSF': 22863.209294897755,\n",
       "  'MF': 8883.251734780984,\n",
       "  None: 4776.8175525345505},\n",
       " 'floor_area': {'LSF': 334873.1766913854,\n",
       "  'SSF': 17159.66749151381,\n",
       "  'MF': 4441.625867390492,\n",
       "  None: 2388.4087762672752}}"
      ]
     },
     "execution_count": 8,
     "metadata": {},
     "output_type": "execute_result"
    }
   ],
   "source": [
    "wrf_info_map[32790] # Area of each type in each WRF grid"
   ]
  },
  {
   "cell_type": "code",
   "execution_count": 9,
   "metadata": {},
   "outputs": [],
   "source": [
    "geojson = open(os.path.join('bldg-wrf-mapping','wrf_to_bldg_info.json'), 'w')\n",
    "geojson.write(json.dumps(wrf_info_map, indent=2))\n",
    "geojson.close()"
   ]
  },
  {
   "cell_type": "code",
   "execution_count": 10,
   "metadata": {},
   "outputs": [
    {
     "name": "stdout",
     "output_type": "stream",
     "text": [
      "Total grid processed: 5800"
     ]
    }
   ],
   "source": [
    "type_tags = ['SSF', 'LSF', 'MF', 'LOffice', 'MOffice', 'SOffice', 'SRetail', 'LRetail', \n",
    "             'SHotel', 'LHotel', 'Hospital', 'SRestaurant', 'LRestaurant', 'School', 'Warehouse']\n",
    "count = 0\n",
    "for grid_id in wrf_info_map:\n",
    "    count += 1\n",
    "    if count % 100 == 0:\n",
    "        sys.stdout.write(\"\\rTotal grid processed: %d\" % count)\n",
    "        sys.stdout.flush()\n",
    "    df_emission_result = pd.DataFrame()\n",
    "    df_energy_result = pd.DataFrame()\n",
    "    for type_tag in type_tags:\n",
    "        result_name = os.path.join(wrf_folder, result_folder, str(grid_id) + '-' + type_tag + '-out.csv')\n",
    "        if os.path.exists(result_name):\n",
    "            df_eplus_result = pd.read_csv(result_name, sep=',', parse_dates=True, infer_datetime_format=True, encoding='UTF-8')\n",
    "            \n",
    "            col_list = ['Environment:Site Total Zone Exfiltration Heat Loss [J](Hourly)',\n",
    "                        'Environment:Site Total Zone Exhaust Air Heat Loss [J](Hourly)',\n",
    "                        'SimHVAC:Air System Relief Air Total Heat Loss Energy [J](Hourly)',\n",
    "                        'SimHVAC:HVAC System Total Heat Rejection Energy [J](Hourly)']\n",
    "            col_list_1 = ['Environment:Site Total Zone Exfiltration Heat Loss [J](Hourly)',\n",
    "                          'Environment:Site Total Zone Exhaust Air Heat Loss [J](Hourly)']\n",
    "            col_list_2 = 'SimHVAC:Air System Relief Air Total Heat Loss Energy [J](Hourly)'\n",
    "            col_list_3 = 'SimHVAC:HVAC System Total Heat Rejection Energy [J](Hourly)'\n",
    "\n",
    "#           col_list = ['Environment:Site Total Surface Heat Emission to Air [J](Hourly)'\n",
    "            df_emission_result[str(grid_id) + '-' + type_tag.lower()] = df_eplus_result[col_list].sum(axis=1) * 1E-9\n",
    "            df_emission_result[str(grid_id) + '-' + type_tag.lower() + '-exh'] = df_eplus_result[col_list_1].sum(axis=1) * 1E-9\n",
    "            df_emission_result[str(grid_id) + '-' + type_tag.lower() + '-ref'] = df_eplus_result[col_list_2] * 1E-9\n",
    "            df_emission_result[str(grid_id) + '-' + type_tag.lower() + '-rej'] = df_eplus_result[col_list_3] * 1E-9\n",
    "                \n",
    "#             try:\n",
    "#                 col_list_e = ['Electricity:HVAC [J](Hourly)',\n",
    "#                               'NaturalGas:HVAC [J](Hourly)']\n",
    "#                 df_energy_result[str(grid_id) + '-' + type_tag.lower() + '-energy'] = df_eplus_result[col_list_e].sum(axis=1) * 1E-9\n",
    "#             except:\n",
    "#                 col_list_e = ['Electricity:HVAC [J](Hourly)']\n",
    "#                 df_energy_result[str(grid_id) + '-' + type_tag.lower() + '-energy'] = df_eplus_result[col_list_e].sum(axis=1) * 1E-9\n",
    "#         else:\n",
    "#             print(result_name)\n",
    "    df_emission_result.to_csv(os.path.join(wrf_folder, sorted_folder, 'eplus-emission-result-' + str(grid_id) + '.csv'))\n",
    "#     df_energy_result.to_csv(os.path.join(wrf_folder, sorted_folder, 'eplus-energy-result-' + str(grid_id) + '.csv'))"
   ]
  },
  {
   "cell_type": "code",
   "execution_count": 11,
   "metadata": {},
   "outputs": [
    {
     "data": {
      "text/html": [
       "<div>\n",
       "<style scoped>\n",
       "    .dataframe tbody tr th:only-of-type {\n",
       "        vertical-align: middle;\n",
       "    }\n",
       "\n",
       "    .dataframe tbody tr th {\n",
       "        vertical-align: top;\n",
       "    }\n",
       "\n",
       "    .dataframe thead th {\n",
       "        text-align: right;\n",
       "    }\n",
       "</style>\n",
       "<table border=\"1\" class=\"dataframe\">\n",
       "  <thead>\n",
       "    <tr style=\"text-align: right;\">\n",
       "      <th></th>\n",
       "      <th>53110-ssf</th>\n",
       "      <th>53110-ssf-exh</th>\n",
       "      <th>53110-ssf-ref</th>\n",
       "      <th>53110-ssf-rej</th>\n",
       "      <th>53110-lsf</th>\n",
       "      <th>53110-lsf-exh</th>\n",
       "      <th>53110-lsf-ref</th>\n",
       "      <th>53110-lsf-rej</th>\n",
       "    </tr>\n",
       "  </thead>\n",
       "  <tbody>\n",
       "    <tr>\n",
       "      <th>0</th>\n",
       "      <td>0.007158</td>\n",
       "      <td>0.007158</td>\n",
       "      <td>0.0</td>\n",
       "      <td>0.0</td>\n",
       "      <td>0.007019</td>\n",
       "      <td>0.007019</td>\n",
       "      <td>0.0</td>\n",
       "      <td>0.0</td>\n",
       "    </tr>\n",
       "    <tr>\n",
       "      <th>1</th>\n",
       "      <td>0.006422</td>\n",
       "      <td>0.006422</td>\n",
       "      <td>0.0</td>\n",
       "      <td>0.0</td>\n",
       "      <td>0.006346</td>\n",
       "      <td>0.006346</td>\n",
       "      <td>0.0</td>\n",
       "      <td>0.0</td>\n",
       "    </tr>\n",
       "    <tr>\n",
       "      <th>2</th>\n",
       "      <td>0.007350</td>\n",
       "      <td>0.007350</td>\n",
       "      <td>0.0</td>\n",
       "      <td>0.0</td>\n",
       "      <td>0.007592</td>\n",
       "      <td>0.007592</td>\n",
       "      <td>0.0</td>\n",
       "      <td>0.0</td>\n",
       "    </tr>\n",
       "    <tr>\n",
       "      <th>3</th>\n",
       "      <td>0.009085</td>\n",
       "      <td>0.009085</td>\n",
       "      <td>0.0</td>\n",
       "      <td>0.0</td>\n",
       "      <td>0.009805</td>\n",
       "      <td>0.009805</td>\n",
       "      <td>0.0</td>\n",
       "      <td>0.0</td>\n",
       "    </tr>\n",
       "    <tr>\n",
       "      <th>4</th>\n",
       "      <td>0.008849</td>\n",
       "      <td>0.008849</td>\n",
       "      <td>0.0</td>\n",
       "      <td>0.0</td>\n",
       "      <td>0.009645</td>\n",
       "      <td>0.009645</td>\n",
       "      <td>0.0</td>\n",
       "      <td>0.0</td>\n",
       "    </tr>\n",
       "    <tr>\n",
       "      <th>5</th>\n",
       "      <td>0.008056</td>\n",
       "      <td>0.008056</td>\n",
       "      <td>0.0</td>\n",
       "      <td>0.0</td>\n",
       "      <td>0.009027</td>\n",
       "      <td>0.009027</td>\n",
       "      <td>0.0</td>\n",
       "      <td>0.0</td>\n",
       "    </tr>\n",
       "    <tr>\n",
       "      <th>6</th>\n",
       "      <td>0.001737</td>\n",
       "      <td>0.001737</td>\n",
       "      <td>0.0</td>\n",
       "      <td>0.0</td>\n",
       "      <td>0.002420</td>\n",
       "      <td>0.002420</td>\n",
       "      <td>0.0</td>\n",
       "      <td>0.0</td>\n",
       "    </tr>\n",
       "    <tr>\n",
       "      <th>7</th>\n",
       "      <td>0.001220</td>\n",
       "      <td>0.001220</td>\n",
       "      <td>0.0</td>\n",
       "      <td>0.0</td>\n",
       "      <td>0.001726</td>\n",
       "      <td>0.001726</td>\n",
       "      <td>0.0</td>\n",
       "      <td>0.0</td>\n",
       "    </tr>\n",
       "    <tr>\n",
       "      <th>8</th>\n",
       "      <td>0.000756</td>\n",
       "      <td>0.000756</td>\n",
       "      <td>0.0</td>\n",
       "      <td>0.0</td>\n",
       "      <td>0.001048</td>\n",
       "      <td>0.001048</td>\n",
       "      <td>0.0</td>\n",
       "      <td>0.0</td>\n",
       "    </tr>\n",
       "    <tr>\n",
       "      <th>9</th>\n",
       "      <td>0.000705</td>\n",
       "      <td>0.000705</td>\n",
       "      <td>0.0</td>\n",
       "      <td>0.0</td>\n",
       "      <td>0.000894</td>\n",
       "      <td>0.000894</td>\n",
       "      <td>0.0</td>\n",
       "      <td>0.0</td>\n",
       "    </tr>\n",
       "    <tr>\n",
       "      <th>10</th>\n",
       "      <td>0.001174</td>\n",
       "      <td>0.001174</td>\n",
       "      <td>0.0</td>\n",
       "      <td>0.0</td>\n",
       "      <td>0.001331</td>\n",
       "      <td>0.001331</td>\n",
       "      <td>0.0</td>\n",
       "      <td>0.0</td>\n",
       "    </tr>\n",
       "    <tr>\n",
       "      <th>11</th>\n",
       "      <td>0.001804</td>\n",
       "      <td>0.001804</td>\n",
       "      <td>0.0</td>\n",
       "      <td>0.0</td>\n",
       "      <td>0.001888</td>\n",
       "      <td>0.001888</td>\n",
       "      <td>0.0</td>\n",
       "      <td>0.0</td>\n",
       "    </tr>\n",
       "  </tbody>\n",
       "</table>\n",
       "</div>"
      ],
      "text/plain": [
       "    53110-ssf  53110-ssf-exh  53110-ssf-ref  53110-ssf-rej  53110-lsf  \\\n",
       "0    0.007158       0.007158            0.0            0.0   0.007019   \n",
       "1    0.006422       0.006422            0.0            0.0   0.006346   \n",
       "2    0.007350       0.007350            0.0            0.0   0.007592   \n",
       "3    0.009085       0.009085            0.0            0.0   0.009805   \n",
       "4    0.008849       0.008849            0.0            0.0   0.009645   \n",
       "5    0.008056       0.008056            0.0            0.0   0.009027   \n",
       "6    0.001737       0.001737            0.0            0.0   0.002420   \n",
       "7    0.001220       0.001220            0.0            0.0   0.001726   \n",
       "8    0.000756       0.000756            0.0            0.0   0.001048   \n",
       "9    0.000705       0.000705            0.0            0.0   0.000894   \n",
       "10   0.001174       0.001174            0.0            0.0   0.001331   \n",
       "11   0.001804       0.001804            0.0            0.0   0.001888   \n",
       "\n",
       "    53110-lsf-exh  53110-lsf-ref  53110-lsf-rej  \n",
       "0        0.007019            0.0            0.0  \n",
       "1        0.006346            0.0            0.0  \n",
       "2        0.007592            0.0            0.0  \n",
       "3        0.009805            0.0            0.0  \n",
       "4        0.009645            0.0            0.0  \n",
       "5        0.009027            0.0            0.0  \n",
       "6        0.002420            0.0            0.0  \n",
       "7        0.001726            0.0            0.0  \n",
       "8        0.001048            0.0            0.0  \n",
       "9        0.000894            0.0            0.0  \n",
       "10       0.001331            0.0            0.0  \n",
       "11       0.001888            0.0            0.0  "
      ]
     },
     "execution_count": 11,
     "metadata": {},
     "output_type": "execute_result"
    }
   ],
   "source": [
    "df_emission_result.head(12)"
   ]
  },
  {
   "cell_type": "markdown",
   "metadata": {},
   "source": [
    "## Calc into grid"
   ]
  },
  {
   "cell_type": "code",
   "execution_count": 12,
   "metadata": {},
   "outputs": [
    {
     "data": {
      "text/plain": [
       "{'area': {'LSF': 607312.6654331736,\n",
       "  'SSF': 22863.209294897755,\n",
       "  'MF': 8883.251734780984,\n",
       "  None: 4776.8175525345505},\n",
       " 'floor_area': {'LSF': 334873.1766913854,\n",
       "  'SSF': 17159.66749151381,\n",
       "  'MF': 4441.625867390492,\n",
       "  None: 2388.4087762672752}}"
      ]
     },
     "execution_count": 12,
     "metadata": {},
     "output_type": "execute_result"
    }
   ],
   "source": [
    "type_tags = {'SSF':235.93, 'LSF': 268.58, 'MF': 646.60, 'LOffice': 46320.38, 'MOffice':4982.19, \n",
    "             'SOffice':511.16, 'SRetail':2090.32, 'LRetail':2293.99, \n",
    "             'SHotel': 4013.58, 'LHotel': 11345.29, 'Warehouse': 4835.13, \n",
    "             'SRestaurant': 511.15, 'LRestaurant': 511.15, \n",
    "             'School': 19592.00, 'Hospital': 22436.18, 'None': 268.58} # unit:m2\n",
    "wrf_info_map[32790]"
   ]
  },
  {
   "cell_type": "code",
   "execution_count": 14,
   "metadata": {},
   "outputs": [
    {
     "name": "stdout",
     "output_type": "stream",
     "text": [
      "24971 SHotel - not found.\n",
      "25343 SSF - not found.\n",
      "28409 SSF - not found.\n",
      "29361 SHotel - not found.\n",
      "32768 School - not found.\n",
      "32768 SRetail - not found.\n",
      "32768 LRetail - not found.\n",
      "32768 SRestaurant - not found.\n",
      "32768 LRestaurant - not found.\n",
      "32768 MOffice - not found.\n",
      "32768 Hospital - not found.\n",
      "32768 LOffice - not found.\n",
      "32768 MF - not found.\n",
      "32768 LSF - not found.\n",
      "35201 MF - not found.\n",
      "39575 SRetail - not found.\n",
      "39812 SRestaurant - not found.\n",
      "40207 SRetail - not found.\n",
      "42916 Hospital - not found.\n"
     ]
    }
   ],
   "source": [
    "num_of_days = 41\n",
    "df_grid_result = pd.DataFrame()\n",
    "df_grid_result_exh = pd.DataFrame()\n",
    "df_grid_result_ref = pd.DataFrame()\n",
    "df_grid_result_rej = pd.DataFrame()\n",
    "for grid_id in wrf_info_map:\n",
    "    df_grid_result[str(grid_id)] = np.zeros(num_of_days * 24)\n",
    "    df_grid_result_exh[str(grid_id)] = np.zeros(num_of_days * 24)\n",
    "    df_grid_result_ref[str(grid_id)] = np.zeros(num_of_days * 24)\n",
    "    df_grid_result_rej[str(grid_id)] = np.zeros(num_of_days * 24)\n",
    "\n",
    "count = 0\n",
    "for grid_id in wrf_info_map:\n",
    "    count += 1\n",
    "#     if count % 100 == 0:\n",
    "#         sys.stdout.write(\"\\rTotal grid processed: %d\" % count)\n",
    "#         sys.stdout.flush()\n",
    "    csv_name = os.path.join(wrf_folder, sorted_folder, 'eplus-emission-result-' + str(grid_id) + '.csv')\n",
    "    if not os.path.exists(csv_name):\n",
    "        continue\n",
    "    df_emission_result = pd.read_csv(csv_name, sep=',', parse_dates=True, infer_datetime_format=True, encoding='UTF-8')\n",
    "    total_floor_area = 0\n",
    "    for use_type in wrf_info_map[grid_id]['area']:\n",
    "        if use_type:\n",
    "            header_name = str(grid_id) + '-' + use_type.lower()\n",
    "            bldg_area = wrf_info_map[grid_id]['area'][use_type]\n",
    "            floor_area = wrf_info_map[grid_id]['floor_area'][use_type]\n",
    "            if header_name in df_emission_result:\n",
    "                df_grid_result[str(grid_id)] += (df_emission_result[header_name] * 277778 / type_tags[use_type]) * bldg_area\n",
    "                df_grid_result_exh[str(grid_id)] += (df_emission_result[header_name + '-exh'] * 277778 / type_tags[use_type]) * bldg_area \n",
    "                df_grid_result_ref[str(grid_id)] += (df_emission_result[header_name + '-ref'] * 277778 / type_tags[use_type]) * bldg_area \n",
    "                df_grid_result_rej[str(grid_id)] += (df_emission_result[header_name + '-rej'] * 277778 / type_tags[use_type]) * bldg_area\n",
    "                total_floor_area += floor_area\n",
    "            else:\n",
    "                print(str(grid_id) + ' ' + use_type + ' - not found.')\n",
    "    df_grid_result[str(grid_id)] /= total_floor_area\n",
    "    df_grid_result_exh[str(grid_id)] /= total_floor_area\n",
    "    df_grid_result_ref[str(grid_id)] /= total_floor_area\n",
    "    df_grid_result_rej[str(grid_id)] /= total_floor_area\n"
   ]
  },
  {
   "cell_type": "code",
   "execution_count": 16,
   "metadata": {},
   "outputs": [
    {
     "data": {
      "text/plain": [
       "0     13.762248\n",
       "1     12.434107\n",
       "2     14.828136\n",
       "3     19.089576\n",
       "4     18.766044\n",
       "5     17.530618\n",
       "6      4.637132\n",
       "7      3.304046\n",
       "8      2.009116\n",
       "9      1.723091\n",
       "10     2.583347\n",
       "11     3.684354\n",
       "Name: 53110, dtype: float64"
      ]
     },
     "execution_count": 16,
     "metadata": {},
     "output_type": "execute_result"
    }
   ],
   "source": [
    "df_grid_result[str(53110)].head(12)"
   ]
  },
  {
   "cell_type": "code",
   "execution_count": 17,
   "metadata": {},
   "outputs": [],
   "source": [
    "df_grid_result.to_csv(os.path.join(wrf_folder, 'eplus-final-results', 'grid-emission-results-new.csv'))\n",
    "df_grid_result_exh.to_csv(os.path.join(wrf_folder, 'eplus-final-results', 'grid-emission-results-exh-new.csv'))\n",
    "df_grid_result_ref.to_csv(os.path.join(wrf_folder, 'eplus-final-results', 'grid-emission-results-ref-new.csv'))\n",
    "df_grid_result_rej.to_csv(os.path.join(wrf_folder, 'eplus-final-results', 'grid-emission-results-rej-new.csv'))"
   ]
  },
  {
   "cell_type": "code",
   "execution_count": 18,
   "metadata": {},
   "outputs": [],
   "source": [
    "df_grid_result = pd.read_csv(os.path.join(wrf_folder, 'eplus-final-results', 'grid-emission-results-rej-new.csv'), sep=',', parse_dates=True, infer_datetime_format=True, encoding='UTF-8')"
   ]
  },
  {
   "cell_type": "code",
   "execution_count": 19,
   "metadata": {},
   "outputs": [
    {
     "data": {
      "text/plain": [
       "[0.011796655392696677,\n",
       " 0.004903829236742607,\n",
       " 0.0007548261222055361,\n",
       " 0.0,\n",
       " 0.0018550328632249641,\n",
       " 0.006589650307343186,\n",
       " 0.0,\n",
       " 0.0,\n",
       " 0.0,\n",
       " 0.0,\n",
       " 0.0,\n",
       " 0.0]"
      ]
     },
     "execution_count": 19,
     "metadata": {},
     "output_type": "execute_result"
    }
   ],
   "source": [
    "df_grid_result[str(32790)].to_list()[:12]"
   ]
  },
  {
   "cell_type": "code",
   "execution_count": 20,
   "metadata": {},
   "outputs": [],
   "source": [
    "file_name_prefix = \"Variable_HEATI_M0_2018\" ## todo\n",
    "output_folder = 'eplus-final-results-matrix'\n",
    "no_row = 384\n",
    "no_col = 339\n",
    "for index, row in df_grid_result.iterrows():\n",
    "    hour = index % 24\n",
    "    day = (index // 24 + 20) % 31\n",
    "    mon = (index // 24 + 20) // 31 + 8\n",
    "    if day == 0:\n",
    "        day = 31\n",
    "        mon = 8\n",
    "    file_name = file_name_prefix + str(mon).zfill(2) + str(day).zfill(2) + str(hour).zfill(2) + '.txt'\n",
    "    ind = -1\n",
    "    with open(os.path.join(wrf_folder, output_folder, file_name), 'w') as out:\n",
    "        for i in range(no_row):\n",
    "            for j in range(no_col):\n",
    "                ind += 1\n",
    "                if str(ind) not in row:\n",
    "                    out.write('0,')\n",
    "                else:\n",
    "                    out.write(str(round(row[str(ind)], 3)) + ',')\n",
    "            out.write('\\n')"
   ]
  },
  {
   "cell_type": "code",
   "execution_count": null,
   "metadata": {},
   "outputs": [],
   "source": []
  }
 ],
 "metadata": {
  "kernelspec": {
   "display_name": "Python 3",
   "language": "python",
   "name": "python3"
  },
  "language_info": {
   "codemirror_mode": {
    "name": "ipython",
    "version": 3
   },
   "file_extension": ".py",
   "mimetype": "text/x-python",
   "name": "python",
   "nbconvert_exporter": "python",
   "pygments_lexer": "ipython3",
   "version": "3.8.3"
  },
  "toc": {
   "base_numbering": 1,
   "nav_menu": {},
   "number_sections": true,
   "sideBar": true,
   "skip_h1_title": false,
   "title_cell": "Table of Contents",
   "title_sidebar": "Contents",
   "toc_cell": false,
   "toc_position": {},
   "toc_section_display": true,
   "toc_window_display": false
  }
 },
 "nbformat": 4,
 "nbformat_minor": 2
}
