{
 "cells": [
  {
   "cell_type": "code",
   "execution_count": 1,
   "metadata": {},
   "outputs": [],
   "source": [
    "import os, sys, json\n",
    "import numpy as np\n",
    "import pandas as pd\n",
    "import datetime as dt\n",
    "import matplotlib.pyplot as plt\n",
    "import seaborn as sns\n",
    "%matplotlib inline\n",
    "plt.style.use('ggplot')\n",
    "import warnings\n",
    "warnings.filterwarnings('ignore')"
   ]
  },
  {
   "cell_type": "code",
   "execution_count": 2,
   "metadata": {},
   "outputs": [],
   "source": [
    "from json import dumps\n",
    "from shapely.geometry import Point\n",
    "from shapely.geometry.polygon import Polygon\n",
    "\n",
    "def list_geojson_properties(geojson):\n",
    "    print('GeoJson properties:\\n' + \"; \".join(geojson['properties']))\n",
    "    print('GeoJson geometry coordinates: ' + str(geojson['geometry']['coordinates'][0][0]))\n",
    "\n",
    "def get_polygon_from_geojson_geometry(geometry):\n",
    "    polygon_list = list()\n",
    "    if geometry['type'] == 'MultiPolygon':\n",
    "        for polygon in geometry['coordinates']:\n",
    "            polygon_list.append(Polygon(polygon[0]))\n",
    "    elif geometry['type'] == 'Polygon':\n",
    "        polygon_list.append(Polygon(geometry['coordinates'][0]))\n",
    "    return polygon_list"
   ]
  },
  {
   "cell_type": "code",
   "execution_count": 4,
   "metadata": {},
   "outputs": [],
   "source": [
    "BOUNDARIES_NAME = 'domain/la-county-boundary.geojson'\n",
    "districts_data = dict()\n",
    "with open(BOUNDARIES_NAME, 'r') as f:\n",
    "    data = json.load(f)\n",
    "    district_list = data['features']\n",
    "\n",
    "for district in district_list:\n",
    "    district_name = str(district['properties']['OBJECTID'])\n",
    "    district_name = district_name.replace(' ', '_')\n",
    "    districts_data[district_name] = dict()\n",
    "    districts_data[district_name]['coordinates'] = get_polygon_from_geojson_geometry(district['geometry'])"
   ]
  },
  {
   "cell_type": "markdown",
   "metadata": {},
   "source": [
    "## Generate WRF grid GeoJSON boundaries\n",
    "\n",
    "- Input from WRF are all in matrix format with `row` * `col`.\n",
    "- Each lat, lon in WRF input is the coordinate of a center of a WRF grid (e.g. A)\n",
    "- The code block calculate the boundary vertice [a, b, c, d] and write them as an element in the GeoJSON.\n",
    "\n",
    "<img src=\"img/img1.png\" alt=\"Drawing\" style=\"width: 300px;\"/>"
   ]
  },
  {
   "cell_type": "code",
   "execution_count": 5,
   "metadata": {},
   "outputs": [],
   "source": [
    "FORCING_FOLDER = 'M02_EnergyPlus_Forcing_Historical'\n",
    "\n",
    "row = 384 # input size of the 'Fixed_XLAT', 'Fixed_XLON' = 384 * 339\n",
    "col = 339\n",
    "c_lat = np.zeros((row + 2, col + 2))\n",
    "c_lon = np.zeros((row + 2, col + 2))\n",
    "file_name = os.path.join(FORCING_FOLDER, 'meta','Fixed_XLAT.txt')\n",
    "with open(file_name, 'r') as f:\n",
    "    for i in range(row):\n",
    "        cur_data = f.readline().split()\n",
    "        for j in range(col):\n",
    "            c_lat[i + 1, j + 1] = float(cur_data[j])\n",
    "            \n",
    "file_name = os.path.join(FORCING_FOLDER, 'meta','Fixed_XLONG.txt')\n",
    "with open(file_name, 'r') as f:\n",
    "    for i in range(row):\n",
    "        cur_data = f.readline().split()\n",
    "        for j in range(col):\n",
    "            c_lon[i + 1, j + 1] = float(cur_data[j])\n",
    "\n",
    "for j in range(1, col + 1):\n",
    "    c_lon[0, j] = c_lon[1, j] - (c_lon[2, j] - c_lon[1, j])\n",
    "    c_lon[row + 1, j] = c_lon[row, j] + (c_lon[row, j] - c_lon[row - 1, j])\n",
    "    c_lat[0, j] = c_lat[1, j] - (c_lat[2, j] - c_lat[1, j])\n",
    "    c_lat[row + 1, j] = c_lat[row, j] + (c_lat[row, j] - c_lat[row - 1, j])\n",
    "\n",
    "for i in range(row + 2):\n",
    "    c_lon[i, 0] = c_lon[i, 1] - (c_lon[i, 2] - c_lon[i, 1])\n",
    "    c_lon[i, col + 1] = c_lon[i, col] - (c_lon[i, col] - c_lon[i, col - 1])\n",
    "    c_lat[i, 0] = c_lat[i, 1] - (c_lat[i, 2] - c_lat[i, 1])\n",
    "    c_lat[i, col + 1] = c_lat[i, col] - (c_lat[i, col] - c_lat[i, col - 1])"
   ]
  },
  {
   "cell_type": "code",
   "execution_count": 6,
   "metadata": {},
   "outputs": [
    {
     "data": {
      "text/plain": [
       "array([[-118.65581, -118.65691, -118.65801, -118.65909, -118.66021],\n",
       "       [-118.65114, -118.65224, -118.65334, -118.65443, -118.65553],\n",
       "       [-118.64647, -118.64757, -118.64867, -118.64977, -118.65085],\n",
       "       [-118.64182, -118.6429 , -118.64398, -118.64508, -118.64618],\n",
       "       [-118.63711, -118.63821, -118.63931, -118.64041, -118.64151]])"
      ]
     },
     "execution_count": 6,
     "metadata": {},
     "output_type": "execute_result"
    }
   ],
   "source": [
    "c_lon[:5, :5]"
   ]
  },
  {
   "cell_type": "code",
   "execution_count": 7,
   "metadata": {},
   "outputs": [
    {
     "data": {
      "text/plain": [
       "array([[-117.21451, -117.21555, -117.2166 , -117.21765, -117.2166 ],\n",
       "       [-117.20972, -117.21077, -117.21182, -117.21286, -117.21182],\n",
       "       [-117.20493, -117.20598, -117.20703, -117.20807, -117.20703],\n",
       "       [-117.20013, -117.20119, -117.20224, -117.20328, -117.20224],\n",
       "       [-117.19533, -117.1964 , -117.19745, -117.19849, -117.19745]])"
      ]
     },
     "execution_count": 7,
     "metadata": {},
     "output_type": "execute_result"
    }
   ],
   "source": [
    "c_lon[384 - 3:, 339 - 3:]"
   ]
  },
  {
   "cell_type": "code",
   "execution_count": 8,
   "metadata": {},
   "outputs": [],
   "source": [
    "ul_lat = np.zeros((row + 1, col + 1))\n",
    "ul_lon = np.zeros((row + 1, col + 1))\n",
    "\n",
    "for i in range(row + 1):\n",
    "    for j in range(col + 1):\n",
    "        ul_lat[i, j] = (c_lat[i, j] + c_lat[i + 1, j] + c_lat[i + 1, j + 1] + c_lat[i, j + 1])/4\n",
    "        ul_lon[i, j] = (c_lon[i, j] + c_lon[i + 1, j] + c_lon[i + 1, j + 1] + c_lon[i, j + 1])/4"
   ]
  },
  {
   "cell_type": "code",
   "execution_count": 9,
   "metadata": {},
   "outputs": [
    {
     "data": {
      "text/plain": [
       "array([[-118.654025 , -118.655125 , -118.6562175],\n",
       "       [-118.649355 , -118.650455 , -118.6515525],\n",
       "       [-118.64469  , -118.64578  , -118.646875 ]])"
      ]
     },
     "execution_count": 9,
     "metadata": {},
     "output_type": "execute_result"
    }
   ],
   "source": [
    "ul_lon[:3, :3]"
   ]
  },
  {
   "cell_type": "code",
   "execution_count": 10,
   "metadata": {},
   "outputs": [
    {
     "data": {
      "text/plain": [
       "array([[-117.2126375, -117.213685 , -117.2147325, -117.2147325],\n",
       "       [-117.20785  , -117.2089   , -117.209945 , -117.209945 ],\n",
       "       [-117.2030575, -117.20411  , -117.205155 , -117.205155 ],\n",
       "       [-117.1982625, -117.19932  , -117.200365 , -117.200365 ]])"
      ]
     },
     "execution_count": 10,
     "metadata": {},
     "output_type": "execute_result"
    }
   ],
   "source": [
    "ul_lon[384 - 3:, 339 - 3:]"
   ]
  },
  {
   "cell_type": "markdown",
   "metadata": {},
   "source": [
    "### note: adding a \"domain_flag\" indicating if a WRF grid is within the domain (e.g. LA County)"
   ]
  },
  {
   "cell_type": "code",
   "execution_count": 13,
   "metadata": {},
   "outputs": [
    {
     "name": "stdout",
     "output_type": "stream",
     "text": [
      "Total number of grids: 130176\n"
     ]
    }
   ],
   "source": [
    "wrf_grids = []\n",
    "ind = -1\n",
    "for i in range(row):\n",
    "    for j in range(col):\n",
    "        ind += 1\n",
    "        grid = [[ul_lon[i,j], ul_lat[i,j]], [ul_lon[i+1,j], ul_lat[i+1,j]], \n",
    "                [ul_lon[i+1,j+1], ul_lat[i+1,j+1]], [ul_lon[i,j+1], ul_lat[i,j+1]], [ul_lon[i,j], ul_lat[i,j]]]\n",
    "        grid_id = ind\n",
    "        domain_flag = 0\n",
    "        geometry = Polygon(grid)\n",
    "        centroid = geometry.centroid\n",
    "        for district in districts_data: \n",
    "            district_poly = districts_data[district]['coordinates'][0]\n",
    "            if district_poly.contains(centroid):\n",
    "                domain_flag = 1\n",
    "                break\n",
    "        grid_properties = {'id':grid_id, 'domain_flag':domain_flag, 'centroid':str((centroid.x, centroid.y))}\n",
    "        grid_geo = { \"type\": \"Polygon\", \"coordinates\":[grid]}\n",
    "        grid_info = {\"type\": \"Feature\", \"properties\": grid_properties, \"geometry\": grid_geo}\n",
    "        wrf_grids.append(grid_info)\n",
    "geojson = open(os.path.join(FORCING_FOLDER, 'meta', 'wrf-grids-origin.geojson'), 'w')\n",
    "geojson.write(dumps({\"type\": \"FeatureCollection\", \"features\": wrf_grids}, indent=2))\n",
    "geojson.close()\n",
    "print('Total number of grids: ' + str(ind + 1))"
   ]
  },
  {
   "cell_type": "code",
   "execution_count": null,
   "metadata": {},
   "outputs": [],
   "source": []
  }
 ],
 "metadata": {
  "kernelspec": {
   "display_name": "Python 3",
   "language": "python",
   "name": "python3"
  },
  "language_info": {
   "codemirror_mode": {
    "name": "ipython",
    "version": 3
   },
   "file_extension": ".py",
   "mimetype": "text/x-python",
   "name": "python",
   "nbconvert_exporter": "python",
   "pygments_lexer": "ipython3",
   "version": "3.8.3"
  },
  "toc": {
   "base_numbering": 1,
   "nav_menu": {},
   "number_sections": true,
   "sideBar": true,
   "skip_h1_title": false,
   "title_cell": "Table of Contents",
   "title_sidebar": "Contents",
   "toc_cell": false,
   "toc_position": {},
   "toc_section_display": true,
   "toc_window_display": false
  }
 },
 "nbformat": 4,
 "nbformat_minor": 2
}
